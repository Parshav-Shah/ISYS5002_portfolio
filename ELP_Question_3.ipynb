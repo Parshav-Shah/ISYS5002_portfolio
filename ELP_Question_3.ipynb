{
  "nbformat": 4,
  "nbformat_minor": 0,
  "metadata": {
    "colab": {
      "name": "ELP_Question_3.ipynb",
      "provenance": [],
      "collapsed_sections": [],
      "authorship_tag": "ABX9TyMrd7czMg0hvjE8vIXR3ZrL",
      "include_colab_link": true
    },
    "kernelspec": {
      "name": "python3",
      "display_name": "Python 3"
    },
    "language_info": {
      "name": "python"
    }
  },
  "cells": [
    {
      "cell_type": "markdown",
      "metadata": {
        "id": "view-in-github",
        "colab_type": "text"
      },
      "source": [
        "<a href=\"https://colab.research.google.com/github/Parshav-Shah/ISYS5002_portfolio/blob/main/ELP_Question_3.ipynb\" target=\"_parent\"><img src=\"https://colab.research.google.com/assets/colab-badge.svg\" alt=\"Open In Colab\"/></a>"
      ]
    },
    {
      "cell_type": "code",
      "metadata": {
        "id": "uSlZBDHZIn1h"
      },
      "source": [
        "def efficiency(dist, gas)\n",
        "return dist/gas\n",
        "km = input (\"How far did your car travel? (In kilometers?) )\n",
        "liters = input (\"How much gas did you use? (In liters)\"\n",
        "MPG = efficiency(dist_traveled, Liters)\n",
        "print MPG"
      ],
      "execution_count": 2,
      "outputs": []
    },
    {
      "cell_type": "markdown",
      "metadata": {
        "id": "enrQvTMNW4PR"
      },
      "source": [
        "**Syntax Error**:\n",
        "\n",
        "Error 1:\n",
        "\n",
        "semi colon(:) is missing.\n",
        "\n",
        "actual syntax: def efficiency(dist, gas) \n",
        "\n",
        "correct syntax: def efficiency(dist, gas):\n",
        "\n",
        "Error 2:\n",
        "\n",
        "Indentation error.\n",
        "Their is no space before 'return' statement.\n",
        "\n",
        "actual syntax: 'return dist/gas'\n",
        "\n",
        "correct syntax: '   return dist/gas'\n",
        "\n",
        "Error 3:\n",
        "\n",
        "Using slash(/) is improper way to declare variable in return statement. We have use commas to declare variables in return statement.\n",
        "\n",
        "actual syntax: '   return dist/gas'\n",
        "\n",
        "correct syntax: '   return dist,gas'\n",
        "\n",
        "Error 4:\n",
        "\n",
        "End of line error. 'km' variable contains input function in which we have to write statement in double inverted commas(\" \"). So, in that, ending comma is not written.\n",
        "\n",
        "actual syntax: km = input (\"How far did your car travel? (In kilometers?) ) \n",
        "\n",
        "correct syntax: km = input (\"How far did your car travel? (In kilometers?)\" )\n",
        "\n",
        "Error 5:\n",
        "\n",
        "Ending bracket is missing in input function of 'liters' variable.\n",
        "actual syntax: liters = input (\"How much gas did you use? (In liters)\"\n",
        "correct syntax: liters = input (\"How much gas did you use? (In liters)\")\n",
        "\n",
        "Error 6:\n",
        "\n",
        "Naming error: 'dist_traveled' variable is not defined in the efficiency function which is used in 'MPG' variable and 'Liters' is written in incorrect way.\n",
        "\n",
        "actual syntax: MPG = efficiency(dist_traveled, Liters) \n",
        "\n",
        "correct syntax: MPG = efficiency(km, liters)\n",
        "\n",
        "Error 7:\n",
        "\n",
        "No brackets are done in print statement and replace \"MPG\" with \"kmPerLitre\"\n",
        "\n",
        "actual syntax: print MPG \n",
        "\n",
        "correct syntax: print (MPG)\n",
        "\n",
        "**Logical Error**:\n",
        "\n",
        "In \"efficiency\" function, all values are taken as input from the user but formula or syntax through which we can calculate fuel economy is not written in the function. So, it will return values that are entered by the user. So write tha logic \"kmPerLitre = dist / gas\" inside the function.\n",
        "\n",
        "Secondly, write Print statement inside the \"Efficiency\" function to print the correct value to fuel efficiency.\n",
        "\n",
        "**Correct Answer is written below**"
      ]
    },
    {
      "cell_type": "code",
      "metadata": {
        "colab": {
          "base_uri": "https://localhost:8080/"
        },
        "id": "FmbsuhX4IpNb",
        "outputId": "d456c1d6-f266-45c0-93a6-09886fba7dcb"
      },
      "source": [
        "def efficiency(dist, gas):\n",
        "  kmPerLitre = dist / gas\n",
        "  print (kmPerLitre)\n",
        "  return dist,gas\n",
        "km = int(input (\"How far did your car travel? (In kilometers?)\"))\n",
        "litres = int(input (\"How much gas did you use? (In liters)\"))\n",
        "MPG = efficiency(km,litres)"
      ],
      "execution_count": 2,
      "outputs": [
        {
          "output_type": "stream",
          "name": "stdout",
          "text": [
            "How far did your car travel? (In kilometers?)100\n",
            "How much gas did you use? (In liters)20\n",
            "5.0\n"
          ]
        }
      ]
    }
  ]
}