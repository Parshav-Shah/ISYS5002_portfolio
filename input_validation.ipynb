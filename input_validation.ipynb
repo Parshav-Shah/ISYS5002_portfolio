{
  "nbformat": 4,
  "nbformat_minor": 5,
  "metadata": {
    "kernelspec": {
      "display_name": "Python 3 (ipykernel)",
      "language": "python",
      "name": "python3"
    },
    "language_info": {
      "codemirror_mode": {
        "name": "ipython",
        "version": 3
      },
      "file_extension": ".py",
      "mimetype": "text/x-python",
      "name": "python",
      "nbconvert_exporter": "python",
      "pygments_lexer": "ipython3",
      "version": "3.9.6"
    },
    "colab": {
      "name": "input_validation.ipynb",
      "provenance": [],
      "collapsed_sections": [],
      "include_colab_link": true
    }
  },
  "cells": [
    {
      "cell_type": "markdown",
      "metadata": {
        "id": "view-in-github",
        "colab_type": "text"
      },
      "source": [
        "<a href=\"https://colab.research.google.com/github/Parshav-Shah/ISYS5002_portfolio/blob/main/input_validation.ipynb\" target=\"_parent\"><img src=\"https://colab.research.google.com/assets/colab-badge.svg\" alt=\"Open In Colab\"/></a>"
      ]
    },
    {
      "cell_type": "markdown",
      "metadata": {
        "id": "b5835b0c"
      },
      "source": [
        "# Input Validation\n",
        "\n",
        "Input validation code verifies that user supplied data, such as text from the input() function, is formatted appropriately.\n",
        "\n",
        "* try/except\n",
        "* isdigit()\n",
        "* pyinputplus\n",
        "\n",
        "## try/except"
      ],
      "id": "b5835b0c"
    },
    {
      "cell_type": "code",
      "metadata": {
        "colab": {
          "base_uri": "https://localhost:8080/"
        },
        "id": "695b1f5f",
        "outputId": "b7005937-0176-4d8e-ee03-ceee2442c785"
      },
      "source": [
        "while True:\n",
        "  try:\n",
        "    ticker = str(input(\"Please type in a ticker symbol \"))\n",
        "    break\n",
        "  except AttributeError:\n",
        "    print('Please enter proper Ticker Symbol')\n",
        "print('Your age is: ' + str(ticker))\n",
        "#Reference: http://www.easypythondocs.com/validation.html"
      ],
      "id": "695b1f5f",
      "execution_count": null,
      "outputs": [
        {
          "output_type": "stream",
          "name": "stdout",
          "text": [
            "Please type in a ticker symbol 1234515\n",
            "Your age is: 1234515\n"
          ]
        }
      ]
    },
    {
      "cell_type": "code",
      "metadata": {
        "id": "_-UbF5aOMFNe"
      },
      "source": [
        "def get_interger(prompt):\n",
        "\n",
        "  valid_input=False\n",
        "  while not valid_input:\n",
        "    try:\n",
        "      number = int(input(prompt))\n",
        "      #break\n",
        "      valid_input = True\n",
        "    except ValueError:\n",
        "      print('Please enter a whole number')\n",
        "  return number\n",
        "#Reference: http://www.easypythondocs.com/validation.html"
      ],
      "id": "_-UbF5aOMFNe",
      "execution_count": null,
      "outputs": []
    },
    {
      "cell_type": "code",
      "metadata": {
        "colab": {
          "base_uri": "https://localhost:8080/"
        },
        "id": "VFDf4Il3MW90",
        "outputId": "1208f7f2-5d88-4fce-e983-1c223fcf1c51"
      },
      "source": [
        "age = get_interger(\"How old are you???\")\n",
        "print('Your age is: ' + str(age))"
      ],
      "id": "VFDf4Il3MW90",
      "execution_count": null,
      "outputs": [
        {
          "output_type": "stream",
          "text": [
            "How old are you???tewnty\n",
            "Please enter a whole number\n",
            "How old are you???20\n",
            "Your age is: 20\n"
          ],
          "name": "stdout"
        }
      ]
    },
    {
      "cell_type": "markdown",
      "metadata": {
        "id": "acc7252b"
      },
      "source": [
        "## isdigit()"
      ],
      "id": "acc7252b"
    },
    {
      "cell_type": "code",
      "metadata": {
        "id": "5f98c241"
      },
      "source": [
        "#Reference: http://www.easypythondocs.com/validation.html\n",
        "def get_int_isdigit(prompt):\n",
        "  valid_input=False\n",
        "  while not valid_input:\n",
        "    age_1 = input(prompt)\n",
        "    if age_1.isdigit():\n",
        "      age_1 = int(age_1)\n",
        "      #break\n",
        "      valid_input=True\n",
        "    else:\n",
        "      print('You must enter a valid number')\n",
        "  return age_1\n"
      ],
      "id": "5f98c241",
      "execution_count": null,
      "outputs": []
    },
    {
      "cell_type": "code",
      "metadata": {
        "colab": {
          "base_uri": "https://localhost:8080/"
        },
        "id": "VL3RaM8ePYno",
        "outputId": "395fa95a-2b1a-4df8-9c8b-d04007406250"
      },
      "source": [
        "age_2 = get_int_isdigit('How old are you??')\n",
        "print('You are ' + str(age_2))"
      ],
      "id": "VL3RaM8ePYno",
      "execution_count": null,
      "outputs": [
        {
          "output_type": "stream",
          "text": [
            "How old are you??twenty\n",
            "You must enter a valid number\n",
            "How old are you??20\n",
            "You are 20\n"
          ],
          "name": "stdout"
        }
      ]
    },
    {
      "cell_type": "markdown",
      "metadata": {
        "id": "18c00dc3"
      },
      "source": [
        "## Module: pyinputs"
      ],
      "id": "18c00dc3"
    },
    {
      "cell_type": "code",
      "metadata": {
        "colab": {
          "base_uri": "https://localhost:8080/"
        },
        "id": "dfe1740b",
        "outputId": "ebd0e182-4d64-44ec-ea5b-274d9c558748"
      },
      "source": [
        "pip install pyinputplus"
      ],
      "id": "dfe1740b",
      "execution_count": null,
      "outputs": [
        {
          "output_type": "stream",
          "text": [
            "Collecting pyinputplus\n",
            "  Downloading PyInputPlus-0.2.12.tar.gz (20 kB)\n",
            "  Installing build dependencies ... \u001b[?25l\u001b[?25hdone\n",
            "  Getting requirements to build wheel ... \u001b[?25l\u001b[?25hdone\n",
            "    Preparing wheel metadata ... \u001b[?25l\u001b[?25hdone\n",
            "Collecting pysimplevalidate>=0.2.7\n",
            "  Downloading PySimpleValidate-0.2.12.tar.gz (22 kB)\n",
            "  Installing build dependencies ... \u001b[?25l\u001b[?25hdone\n",
            "  Getting requirements to build wheel ... \u001b[?25l\u001b[?25hdone\n",
            "    Preparing wheel metadata ... \u001b[?25l\u001b[?25hdone\n",
            "Collecting stdiomask>=0.0.3\n",
            "  Downloading stdiomask-0.0.6.tar.gz (3.6 kB)\n",
            "  Installing build dependencies ... \u001b[?25l\u001b[?25hdone\n",
            "  Getting requirements to build wheel ... \u001b[?25l\u001b[?25hdone\n",
            "    Preparing wheel metadata ... \u001b[?25l\u001b[?25hdone\n",
            "Building wheels for collected packages: pyinputplus, pysimplevalidate, stdiomask\n",
            "  Building wheel for pyinputplus (PEP 517) ... \u001b[?25l\u001b[?25hdone\n",
            "  Created wheel for pyinputplus: filename=PyInputPlus-0.2.12-py3-none-any.whl size=11315 sha256=484332d1edf4be631c62bd7f2d16322f7798e6d42fa6b26156df519a9cf8079d\n",
            "  Stored in directory: /root/.cache/pip/wheels/e7/33/73/719f8f1bd984d39face880fd22f6c5ef1b85f726e84c687094\n",
            "  Building wheel for pysimplevalidate (PEP 517) ... \u001b[?25l\u001b[?25hdone\n",
            "  Created wheel for pysimplevalidate: filename=PySimpleValidate-0.2.12-py3-none-any.whl size=16191 sha256=001a3a1f8fe3db37a613ebcfed84548690eac791d87386ebdff8152a9c0b18d6\n",
            "  Stored in directory: /root/.cache/pip/wheels/5a/8b/6c/2925d22b93860bdc9b8ce02c3d2cf79336606f7469cef66065\n",
            "  Building wheel for stdiomask (PEP 517) ... \u001b[?25l\u001b[?25hdone\n",
            "  Created wheel for stdiomask: filename=stdiomask-0.0.6-py3-none-any.whl size=3320 sha256=6f9107a1dcc167649be3974aeabfda6cc3391ac2250d42132311da263084b3c8\n",
            "  Stored in directory: /root/.cache/pip/wheels/cf/13/89/64d0d3b167759523f4c1e68f883bbc30e7bfa27050edeb418e\n",
            "Successfully built pyinputplus pysimplevalidate stdiomask\n",
            "Installing collected packages: stdiomask, pysimplevalidate, pyinputplus\n",
            "Successfully installed pyinputplus-0.2.12 pysimplevalidate-0.2.12 stdiomask-0.0.6\n"
          ],
          "name": "stdout"
        }
      ]
    },
    {
      "cell_type": "code",
      "metadata": {
        "colab": {
          "base_uri": "https://localhost:8080/"
        },
        "id": "8k0wmcoRSmR8",
        "outputId": "f73b2ef3-16b5-4ac1-91d9-297ad75c6e86"
      },
      "source": [
        "import pyinputplus as pyipp\n",
        "age_input= pyipp.inputNum(\"How old are you??\")\n",
        "print('Your age :' + str(age_input))"
      ],
      "id": "8k0wmcoRSmR8",
      "execution_count": null,
      "outputs": [
        {
          "output_type": "stream",
          "text": [
            "How old are you??20\n",
            "Your age :20\n"
          ],
          "name": "stdout"
        }
      ]
    },
    {
      "cell_type": "code",
      "metadata": {
        "colab": {
          "base_uri": "https://localhost:8080/"
        },
        "id": "Ci30E7KlS-yT",
        "outputId": "f2e72036-338f-44b0-894a-e7e2b457f697"
      },
      "source": [
        "# two inputs\n",
        "number = 1\n",
        "another = 1\n",
        "\n",
        "#many lines of code\n",
        "try:\n",
        "  number/another\n",
        "  #more line of code!!\n",
        "  with open('readme.txt') as f:\n",
        "    f.readlines()\n",
        "except ZeroDivisionError:\n",
        "  print(\"we cannot divide number by zero...\")\n",
        "except FileNotFoundError:\n",
        "  print(\"Couldn't find a file\")\n",
        "\n",
        "#here may have more lines of code\n",
        "print(\"Finally After Handling Many Errors\")"
      ],
      "id": "Ci30E7KlS-yT",
      "execution_count": null,
      "outputs": [
        {
          "output_type": "stream",
          "text": [
            "Couldn't find a file\n",
            "Finally After Handling Many Errors\n"
          ],
          "name": "stdout"
        }
      ]
    },
    {
      "cell_type": "code",
      "metadata": {
        "id": "LQYQlTB5ncrX"
      },
      "source": [
        "'''def build_url():\n",
        "  ticker = input(\"Please type in a ticker symbol \")\n",
        "  url_pattern = 'https://au.finance.yahoo.com/quote/{}/profile?p={}'\n",
        "  result = url_pattern.format(ticker, ticker)\n",
        "  return result'''\n",
        "def build_url():\n",
        "  while True:\n",
        "    try:\n",
        "      ticker = str(input(\"Please type in a ticker symbol \"))\n",
        "      break\n",
        "    except AttributeError:\n",
        "      print('Please enter proper Ticker Symbol')\n",
        "  url_pattern = 'https://au.finance.yahoo.com/quote/{}/profile?p={}'\n",
        "  result = url_pattern.format(ticker, ticker)\n",
        "  return result"
      ],
      "id": "LQYQlTB5ncrX",
      "execution_count": null,
      "outputs": []
    },
    {
      "cell_type": "code",
      "metadata": {
        "colab": {
          "base_uri": "https://localhost:8080/",
          "height": 52
        },
        "id": "02BkKwr1ntl1",
        "outputId": "72f4e364-6468-46de-be29-6f21b6765ff2"
      },
      "source": [
        "build_url()"
      ],
      "id": "02BkKwr1ntl1",
      "execution_count": null,
      "outputs": [
        {
          "name": "stdout",
          "output_type": "stream",
          "text": [
            "Please type in a ticker symbol 1a1a1a\n"
          ]
        },
        {
          "output_type": "execute_result",
          "data": {
            "application/vnd.google.colaboratory.intrinsic+json": {
              "type": "string"
            },
            "text/plain": [
              "'https://au.finance.yahoo.com/quote/1a1a1a/profile?p=1a1a1a'"
            ]
          },
          "metadata": {},
          "execution_count": 20
        }
      ]
    },
    {
      "cell_type": "code",
      "metadata": {
        "id": "TqPM0b4nodvN"
      },
      "source": [
        ""
      ],
      "id": "TqPM0b4nodvN",
      "execution_count": null,
      "outputs": []
    }
  ]
}