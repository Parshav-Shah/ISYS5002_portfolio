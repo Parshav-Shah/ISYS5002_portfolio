{
  "nbformat": 4,
  "nbformat_minor": 0,
  "metadata": {
    "colab": {
      "name": "Key Execution.ipynb",
      "provenance": [],
      "collapsed_sections": [],
      "include_colab_link": true
    },
    "kernelspec": {
      "name": "python3",
      "display_name": "Python 3"
    },
    "language_info": {
      "name": "python"
    }
  },
  "cells": [
    {
      "cell_type": "markdown",
      "metadata": {
        "id": "view-in-github",
        "colab_type": "text"
      },
      "source": [
        "<a href=\"https://colab.research.google.com/github/Parshav-Shah/ISYS5002_portfolio/blob/main/Key_Execution.ipynb\" target=\"_parent\"><img src=\"https://colab.research.google.com/assets/colab-badge.svg\" alt=\"Open In Colab\"/></a>"
      ]
    },
    {
      "cell_type": "markdown",
      "metadata": {
        "id": "WgnKLtYL6B3m"
      },
      "source": [
        "#**ASSIGNMENT**\n",
        "\n",
        "\n",
        "\n",
        "1. This notebook will prompt the user to input a company's stock market ticker symbol. \n",
        "2. It will then get the data from the Yahoo Finance website to extract information on the key of the company. \n",
        "3. Then the income tax will be calculated for each\n",
        "executive based on the ATO tax tables. \n",
        "4. The User can further choose if the data\n",
        "will be saved as a CSV and/or stored in an SQLite database.\n",
        "\n",
        "\n",
        "\n",
        "\n",
        "\n",
        "\n"
      ]
    },
    {
      "cell_type": "markdown",
      "metadata": {
        "id": "9_7uKHSm6H79"
      },
      "source": [
        " # **Algorithm**\n",
        "\n",
        "*1. First Of all, User will enter the name of Ticker.*\n",
        "\n",
        "*2. Ticker symbol will be used to extract Web page and scrape data of Key Executives of that Stock ticker.*\n",
        "\n",
        "*3. A function named get_url is created to create connection with mentioned URL.*\n",
        "\n",
        "*4. Then a function will be created to extract cells data of each row.*\n",
        "\n",
        "*5. Finally, The function will be created to get salary of all key executives and calculate tax on the pay based on the ATO tables.* \n"
      ]
    },
    {
      "cell_type": "markdown",
      "metadata": {
        "id": "YfIa7aqy_6KP"
      },
      "source": [
        "# Install Unique Packages:-\n"
      ]
    },
    {
      "cell_type": "code",
      "metadata": {
        "id": "HW2hNCmvZmCq"
      },
      "source": [
        "# Install unique packages\n",
        "!pip install kora -q\n",
        "\n",
        "# load packages\n",
        "from bs4 import BeautifulSoup\n",
        "from kora.selenium import wd\n",
        "import pandas as pd\n",
        "import csv\n"
      ],
      "execution_count": null,
      "outputs": []
    },
    {
      "cell_type": "markdown",
      "metadata": {
        "id": "uCyW8wZl_-vN"
      },
      "source": [
        "# Create a function to create connection with the URL:-\n",
        "\n",
        "\n",
        "\n"
      ]
    },
    {
      "cell_type": "code",
      "metadata": {
        "id": "dgp6ev-1Yo4w"
      },
      "source": [
        "def get_url():\n",
        "  '''This function will prompt the user to input a ticker symbol and get \n",
        "  the URL of the profile page'''\n",
        "  \n",
        "  ticker_symbol = input( \"Please input a ticker symbol \")\n",
        "  print(ticker_symbol)\n",
        "  example_url = 'https://au.finance.yahoo.com/quote/{}/profile?p={}'\n",
        "  result = example_url.format(ticker_symbol, ticker_symbol)\n",
        "  return result"
      ],
      "execution_count": null,
      "outputs": []
    },
    {
      "cell_type": "markdown",
      "metadata": {
        "id": "lWSyYsPSAwgU"
      },
      "source": [
        "# Function to get the Cells data of the generated table:-\n",
        "\n"
      ]
    },
    {
      "cell_type": "code",
      "metadata": {
        "id": "b6rhGdYm84yK"
      },
      "source": [
        "def get_cells_data(row):\n",
        "  ''' This function will get the data of the first cells(Name, Title, Pay \n",
        "  of the Key Executives''' \n",
        "  \n",
        "  cells = row.find_all('td')\n",
        "  name = cells[0].text\n",
        "  title = cells[1].text\n",
        "  pay = cells[2].text\n",
        "  return {'name': name, 'title': title,'pay': pay}\n",
        "  "
      ],
      "execution_count": null,
      "outputs": []
    },
    {
      "cell_type": "markdown",
      "metadata": {
        "id": "LvUVqMENBTdf"
      },
      "source": [
        "# function to extract records of Key Executives:-\n"
      ]
    },
    {
      "cell_type": "code",
      "metadata": {
        "id": "vIY7YgiC_oWn"
      },
      "source": [
        "def get_extract_records(soup):\n",
        "  '''This function will extract records of key executives'''\n",
        " \n",
        "  table = soup.find('table')\n",
        "  body = table.find('tbody')\n",
        "  rows = body.find_all('tr')\n",
        "  \n",
        "  extract_records = []\n",
        "  for row in rows:\n",
        "    result = get_cells_data(row)\n",
        "    extract_records.append(result)\n",
        "  return extract_records\n",
        "  "
      ],
      "execution_count": null,
      "outputs": []
    },
    {
      "cell_type": "markdown",
      "metadata": {
        "id": "DHBflMzdBzsD"
      },
      "source": [
        "# Function to get the salary of the Key Executives:-\n",
        "\n",
        "\n",
        "  \n"
      ]
    },
    {
      "cell_type": "code",
      "metadata": {
        "id": "dwd7-pf0Iff4"
      },
      "source": [
        "def get_salary(rec):\n",
        "  ''' This function will get the salary(pay) of the Key executives'''\n",
        "  \n",
        "  pay = rec['pay']\n",
        "  last_pay_character = pay[-1]\n",
        "  num_part = pay[0:-1]\n",
        "\n",
        "  if last_pay_character == 'M':\n",
        "    salary = float(num_part) * 1000000\n",
        "    #print(\"Millions\")\n",
        "  elif last_pay_character == 'k':\n",
        "    salary = float(num_part) * 1000\n",
        "    #print(\"Thousand\")\n",
        "  else:\n",
        "    salary = 0\n",
        "    #print(\"Not sure\")\n",
        "\n",
        "  return salary\n",
        "  "
      ],
      "execution_count": null,
      "outputs": []
    },
    {
      "cell_type": "markdown",
      "metadata": {
        "id": "B8E_uKdrCFBO"
      },
      "source": [
        "# Function to Calculate the Income tax(based on ATO table) on salary of the Key Executives:-\n",
        "\n",
        "\n"
      ]
    },
    {
      "cell_type": "code",
      "metadata": {
        "id": "XLu-0YYFeI01"
      },
      "source": [
        "def calculate_tax(income):\n",
        "   ''' This function will calculate the tax (based on ATO table) \n",
        "   on salary(pay) of the Key executives'''\n",
        "   \n",
        "   if income <= 18200:\n",
        "    tax_payable = 0\n",
        "   elif 18200 < income <= 45000:\n",
        "    tax_payable = 0.19 * (income - 18200)\n",
        "   elif 45000 < income < 120000:\n",
        "    tax_payable = 5092 + 0.32 * (income - 45000)\n",
        "   elif 120001 < income < 180000:\n",
        "    tax_payable = 29467 + 0.37 * (income - 120000)\n",
        "   elif income > 180000:\n",
        "    tax_payable = 51667 + 0.45 * (income - 180000)\n",
        "    \n",
        "    return tax_payable\n",
        "   "
      ],
      "execution_count": null,
      "outputs": []
    },
    {
      "cell_type": "markdown",
      "metadata": {
        "id": "r8IvCNe0CfqR"
      },
      "source": [
        "#Final step is to scrape the Yahoo Finance Table of Key Executives :-"
      ]
    },
    {
      "cell_type": "code",
      "metadata": {
        "id": "MRAp_iE-Wq9w",
        "colab": {
          "base_uri": "https://localhost:8080/",
          "height": 393
        },
        "outputId": "8c6c7a1a-d842-4efc-a180-ef26e03c7ef4"
      },
      "source": [
        "# Get URL\n",
        "\n",
        "''' This will help to scrape the table of the stock ticker symbol input \n",
        "by the user and include tax column as well'''\n",
        "\n",
        "url = get_url()\n",
        "wd.get(url)\n",
        "soup = BeautifulSoup(wd.page_source, \"html.parser\")\n",
        "records = get_extract_records(soup)\n",
        "\n",
        "for record in records:\n",
        "  result = get_salary(record)\n",
        "  income_tax = calculate_tax(result)\n",
        "  record['tax'] = income_tax\n",
        "\n",
        "# Create a pandas dataframe \n",
        "\n",
        "execs_df = pd.DataFrame.from_records(records)\n",
        "execs_df"
      ],
      "execution_count": null,
      "outputs": [
        {
          "output_type": "stream",
          "name": "stdout",
          "text": [
            "Please input a ticker symbol NAB.Ax\n",
            "NAB.Ax\n"
          ]
        },
        {
          "output_type": "execute_result",
          "data": {
            "text/html": [
              "<div>\n",
              "<style scoped>\n",
              "    .dataframe tbody tr th:only-of-type {\n",
              "        vertical-align: middle;\n",
              "    }\n",
              "\n",
              "    .dataframe tbody tr th {\n",
              "        vertical-align: top;\n",
              "    }\n",
              "\n",
              "    .dataframe thead th {\n",
              "        text-align: right;\n",
              "    }\n",
              "</style>\n",
              "<table border=\"1\" class=\"dataframe\">\n",
              "  <thead>\n",
              "    <tr style=\"text-align: right;\">\n",
              "      <th></th>\n",
              "      <th>name</th>\n",
              "      <th>title</th>\n",
              "      <th>pay</th>\n",
              "      <th>tax</th>\n",
              "    </tr>\n",
              "  </thead>\n",
              "  <tbody>\n",
              "    <tr>\n",
              "      <th>0</th>\n",
              "      <td>Mr. Ross Maxwell McEwan CBE, B.B.S.</td>\n",
              "      <td>Group CEO, MD &amp; Director</td>\n",
              "      <td>2.54M</td>\n",
              "      <td>1113667.0</td>\n",
              "    </tr>\n",
              "    <tr>\n",
              "      <th>1</th>\n",
              "      <td>Mr. Gary Andrew Lennon BEC, F.C.A., BEc (Hons)...</td>\n",
              "      <td>Group Chief Financial Officer</td>\n",
              "      <td>1.13M</td>\n",
              "      <td>479167.0</td>\n",
              "    </tr>\n",
              "    <tr>\n",
              "      <th>2</th>\n",
              "      <td>Mr. Patrick F. Wright</td>\n",
              "      <td>Group Exec. of Technology &amp; Enterprise Operations</td>\n",
              "      <td>1.72M</td>\n",
              "      <td>744667.0</td>\n",
              "    </tr>\n",
              "    <tr>\n",
              "      <th>3</th>\n",
              "      <td>Ms. Sharon J. Cook</td>\n",
              "      <td>Group Exec. of Legal &amp; Commercial Services</td>\n",
              "      <td>912.98k</td>\n",
              "      <td>381508.0</td>\n",
              "    </tr>\n",
              "    <tr>\n",
              "      <th>4</th>\n",
              "      <td>Ms. Susan  Ferrier</td>\n",
              "      <td>Group Exec. of People &amp; Culture</td>\n",
              "      <td>929.27k</td>\n",
              "      <td>388838.5</td>\n",
              "    </tr>\n",
              "    <tr>\n",
              "      <th>5</th>\n",
              "      <td>Ms. Angela  Mentis B.Bus</td>\n",
              "      <td>Group Chief Digital, Data &amp; Analytics Officer</td>\n",
              "      <td>1.62M</td>\n",
              "      <td>699667.0</td>\n",
              "    </tr>\n",
              "    <tr>\n",
              "      <th>6</th>\n",
              "      <td>Mr. Shaun  Dooley</td>\n",
              "      <td>Chief Risk Officer</td>\n",
              "      <td>1.05M</td>\n",
              "      <td>443167.0</td>\n",
              "    </tr>\n",
              "    <tr>\n",
              "      <th>7</th>\n",
              "      <td>Mr. Andrew  Irvine</td>\n",
              "      <td>Chief Exec. of Bus. Private Banking Division</td>\n",
              "      <td>333.27k</td>\n",
              "      <td>120638.5</td>\n",
              "    </tr>\n",
              "    <tr>\n",
              "      <th>8</th>\n",
              "      <td>Mr. Lesile D. Matheson</td>\n",
              "      <td>Group Chief Operating Officer</td>\n",
              "      <td>N/A</td>\n",
              "      <td>NaN</td>\n",
              "    </tr>\n",
              "    <tr>\n",
              "      <th>9</th>\n",
              "      <td>Ms. Sally  Mihell</td>\n",
              "      <td>Head of Investor Relations</td>\n",
              "      <td>N/A</td>\n",
              "      <td>NaN</td>\n",
              "    </tr>\n",
              "  </tbody>\n",
              "</table>\n",
              "</div>"
            ],
            "text/plain": [
              "                                                name  ...        tax\n",
              "0                Mr. Ross Maxwell McEwan CBE, B.B.S.  ...  1113667.0\n",
              "1  Mr. Gary Andrew Lennon BEC, F.C.A., BEc (Hons)...  ...   479167.0\n",
              "2                              Mr. Patrick F. Wright  ...   744667.0\n",
              "3                                 Ms. Sharon J. Cook  ...   381508.0\n",
              "4                                 Ms. Susan  Ferrier  ...   388838.5\n",
              "5                           Ms. Angela  Mentis B.Bus  ...   699667.0\n",
              "6                                  Mr. Shaun  Dooley  ...   443167.0\n",
              "7                                 Mr. Andrew  Irvine  ...   120638.5\n",
              "8                             Mr. Lesile D. Matheson  ...        NaN\n",
              "9                                  Ms. Sally  Mihell  ...        NaN\n",
              "\n",
              "[10 rows x 4 columns]"
            ]
          },
          "metadata": {},
          "execution_count": 43
        }
      ]
    },
    {
      "cell_type": "markdown",
      "metadata": {
        "id": "kG15hl_5D-HS"
      },
      "source": [
        "# Saving the Output Results in User Selected Format:-\n",
        "\n",
        "\n",
        "\n",
        "\n"
      ]
    },
    {
      "cell_type": "code",
      "metadata": {
        "id": "K9xMpd3GETpp",
        "colab": {
          "base_uri": "https://localhost:8080/"
        },
        "outputId": "401e3c60-d297-4cb1-8426-d2a81476ff9c"
      },
      "source": [
        "A = \"CSV Format\"\n",
        "B = \"Database\"\n",
        "C = \"CSV and Database\"\n",
        "print(\"A : CSV Format\") \n",
        "print(\"B : DataBase\")\n",
        "print(\"C : In both Format\")\n",
        "D = input(\"Select above option A,B or C to store Data??\")\n",
        "if D == 'A':\n",
        "  '''Saving the Income Tax of Key Executives in a csv and an excel file'''\n",
        "  # Saving the output\n",
        "  df.to_csv('Key_Executives.csv')\n",
        "\n",
        "  print('Saved in CSV File Format....')\n",
        "elif D == 'B':\n",
        "  #Saving the Income tax of Key Executives to SQLite Database using pandas dataframe..\n",
        "  import sqlite3\n",
        "  conn = sqlite3.connect(\"Key_Executives.db\")\n",
        "  execs_df.to_sql('execs_df',conn,if_exists='append', index=False)\n",
        "  Name= pd.read_sql('SELECT * FROM execs_df', conn)\n",
        "  Name.head()\n",
        "  print(\"Database Saved in Files Folder of Google Colab...\")\n",
        "elif D == 'C':\n",
        "  '''Saving the Income Tax of Key Executives in a csv and an excel file'''\n",
        "  # Saving the output\n",
        "  execs_df.to_csv('Key_Executives.csv')\n",
        "\n",
        "  print('Saved in CSV File Format....')\n",
        "  import sqlite3\n",
        "  conn = sqlite3.connect(\"Key_Executives.db\")\n",
        "  execs_df.to_sql('execs_df',conn,if_exists='append', index=False)\n",
        "  Name= pd.read_sql('SELECT * FROM execs_dff', conn)\n",
        "  Name.head()\n",
        "  print(\"Database Saved in Files Folder of Google Colab...\")\n",
        "else:\n",
        "  print(\"Select Correct option...\")"
      ],
      "execution_count": null,
      "outputs": [
        {
          "output_type": "stream",
          "name": "stdout",
          "text": [
            "A : CSV Format\n",
            "B : DataBase\n",
            "C : In both Format\n",
            "Select above option A,B or C to store Data??A\n",
            "Saved in CSV File Format....\n"
          ]
        }
      ]
    }
  ]
}