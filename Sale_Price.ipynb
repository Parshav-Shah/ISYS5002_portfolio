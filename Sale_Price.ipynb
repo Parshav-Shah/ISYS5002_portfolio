{
  "nbformat": 4,
  "nbformat_minor": 0,
  "metadata": {
    "colab": {
      "name": "Sale_Price.ipynb",
      "provenance": [],
      "collapsed_sections": [],
      "include_colab_link": true
    },
    "kernelspec": {
      "name": "python3",
      "display_name": "Python 3"
    },
    "language_info": {
      "name": "python"
    }
  },
  "cells": [
    {
      "cell_type": "markdown",
      "metadata": {
        "id": "view-in-github",
        "colab_type": "text"
      },
      "source": [
        "<a href=\"https://colab.research.google.com/github/Parshav-Shah/ISYS5002_portfolio/blob/main/Sale_Price.ipynb\" target=\"_parent\"><img src=\"https://colab.research.google.com/assets/colab-badge.svg\" alt=\"Open In Colab\"/></a>"
      ]
    },
    {
      "cell_type": "markdown",
      "metadata": {
        "id": "cgTeiXOtSPjH"
      },
      "source": [
        "A local department store needs to develop a program which when given an items original price and percentage it has been discounted, will computer the total price (including goods and services tax) of the item on sale."
      ]
    },
    {
      "cell_type": "markdown",
      "metadata": {
        "id": "yAABiTw3HeyR"
      },
      "source": [
        "#### Simple Calculation of Program\n"
      ]
    },
    {
      "cell_type": "code",
      "metadata": {
        "id": "pPIN2ZcrSqdw",
        "colab": {
          "base_uri": "https://localhost:8080/"
        },
        "outputId": "e3308eb5-0338-4589-a783-070775fa8676"
      },
      "source": [
        "MRP = 100\n",
        "discount_rate = 10\n",
        "gst = 18\n",
        "\n",
        "amount_saved = MRP * (discount_rate / 100)\n",
        "gross_amount = MRP - amount_saved\n",
        "tax_amount = gross_amount * gst/100\n",
        "total_amount = gross_amount + tax_amount\n",
        "\n",
        "print(\"Amount Saved: \", amount_saved)\n",
        "print(\"NET AMOUNT \", gross_amount)\n",
        "print(\"Total Price: \", total_amount ,\"(Including Tax)\") "
      ],
      "execution_count": null,
      "outputs": [
        {
          "output_type": "stream",
          "text": [
            "Amount Saved:  10.0\n",
            "NET AMOUNT  90.0\n",
            "Total Price:  106.2 (Including Tax)\n"
          ],
          "name": "stdout"
        }
      ]
    },
    {
      "cell_type": "markdown",
      "metadata": {
        "id": "DqNgyCpWKXuU"
      },
      "source": [
        "Algorithm to complete Program:\n",
        "1. Input Data from user\n",
        "2. Calculate sale price \n",
        "2. Output Data"
      ]
    },
    {
      "cell_type": "markdown",
      "metadata": {
        "id": "Vh_baSCNLDJJ"
      },
      "source": [
        "Step 1: Data as input"
      ]
    },
    {
      "cell_type": "code",
      "metadata": {
        "id": "e6SgeaghLKMr"
      },
      "source": [
        "def data_input():\n",
        "  product_name= input(\"Please Enter Product Name:\")\n",
        "  mrp= input(\"Enter MRP of Product:\")\n",
        "  discount= input(\"Enter Discount (in %):\")\n",
        "  gst= input(\"Enter GST Rate:\")\n",
        "  return product_name, mrp, discount, gst "
      ],
      "execution_count": null,
      "outputs": []
    },
    {
      "cell_type": "markdown",
      "metadata": {
        "id": "kmltJu9LMcZf"
      },
      "source": [
        "Step 2: Calculation"
      ]
    },
    {
      "cell_type": "code",
      "metadata": {
        "id": "bLDVWLjjMg_P"
      },
      "source": [
        "def calculate(mrp, discount, gst):\n",
        "  discount_amount = mrp * ( discount / 100)\n",
        "  gross_price = mrp - discount_amount\n",
        "  #gst = 10\n",
        "  tax = gross_price * gst/100\n",
        "  taxable_amount = gross_price + tax\n",
        "  return taxable_amount"
      ],
      "execution_count": null,
      "outputs": []
    },
    {
      "cell_type": "code",
      "metadata": {
        "colab": {
          "base_uri": "https://localhost:8080/"
        },
        "id": "NSoBaFR7PIHl",
        "outputId": "935f3a4c-fa19-4cb2-c853-b17c4b4a9e22"
      },
      "source": [
        "calculate(100, 10, 18)"
      ],
      "execution_count": null,
      "outputs": [
        {
          "output_type": "execute_result",
          "data": {
            "text/plain": [
              "106.2"
            ]
          },
          "metadata": {},
          "execution_count": 12
        }
      ]
    },
    {
      "cell_type": "markdown",
      "metadata": {
        "id": "OTcnc2kjNamP"
      },
      "source": [
        "Step 3: Output"
      ]
    },
    {
      "cell_type": "code",
      "metadata": {
        "id": "IO2zr3InNeDX"
      },
      "source": [
        "def result(product_name, mrp, taxable_amount):\n",
        "  print(\"Item Name:\", product_name)\n",
        "  print(\"Maximum Retail Price:\", mrp)\n",
        "  print(\"Total Price:\", taxable_amount)"
      ],
      "execution_count": null,
      "outputs": []
    },
    {
      "cell_type": "code",
      "metadata": {
        "colab": {
          "base_uri": "https://localhost:8080/"
        },
        "id": "EE9-XcLcOYRt",
        "outputId": "ee95f25f-0352-4ad4-a558-be2225bb8401"
      },
      "source": [
        "result('shirt', 500, 650)"
      ],
      "execution_count": null,
      "outputs": [
        {
          "output_type": "stream",
          "text": [
            "Item Name: shirt\n",
            "Maximum Retail Price: 500\n",
            "Total Price: 650\n"
          ],
          "name": "stdout"
        }
      ]
    },
    {
      "cell_type": "markdown",
      "metadata": {
        "id": "jVJ-cWRhP1JH"
      },
      "source": [
        "Final Program"
      ]
    },
    {
      "cell_type": "code",
      "metadata": {
        "colab": {
          "base_uri": "https://localhost:8080/"
        },
        "id": "rVHUEMFEP3n1",
        "outputId": "abff5569-3925-40eb-ca95-025e5356e204"
      },
      "source": [
        "def data_input():\n",
        "  product_name= input(\"Please Enter Product Name:\")\n",
        "  mrp= float(input(\"Enter MRP of Product:\"))\n",
        "  discount= float(input(\"Enter Discount (in %):\"))\n",
        "  gst= float(input(\"Enter GST Rate:\"))\n",
        "  return product_name, mrp, discount, gst \n",
        "\n",
        "def calculate(mrp, discount, gst):\n",
        "  saved_amount = mrp * ( discount / 100)\n",
        "  gross_price = mrp - saved_amount\n",
        "  tax_amt = gross_price * gst/100\n",
        "  taxable_amount = gross_price + tax_amt\n",
        "  return saved_amount, gross_price, tax_amt, taxable_amount\n",
        "\n",
        "def result(product_name, mrp, saved_amount, gross_price, tax_amt, taxable_amount):\n",
        "  print(\"-\"*20)\n",
        "  print(\"Item Name:\", product_name)\n",
        "  print(\"Maximum Retail Price:\", mrp)\n",
        "  print(\"Discount Amount:\", saved_amount)\n",
        "  print(\"Gross Amount\", gross_price)\n",
        "  print(\"Tax amount\", tax_amt)\n",
        "  print(\"Total Price:\", taxable_amount)\n",
        "\n",
        "#input\n",
        "name, price, discount_amount, tax_rate= data_input()\n",
        "#Calculation\n",
        "discont_amount, gross, tax, amount= calculate(price, discount_amount, tax_rate)\n",
        "#Output\n",
        "result(name, price, discount_amount, gross, tax, amount)"
      ],
      "execution_count": null,
      "outputs": [
        {
          "output_type": "stream",
          "text": [
            "Please Enter Product Name:Apple iphone 12 Pro Max\n",
            "Enter MRP of Product:128900\n",
            "Enter Discount (in %):10\n",
            "Enter GST Rate:18\n",
            "--------------------\n",
            "Item Name: Apple iphone 12 Pro Max\n",
            "Maximum Retail Price: 128900.0\n",
            "Discount Amount: 10.0\n",
            "Gross Amount 116010.0\n",
            "Tax amount 20881.8\n",
            "Total Price: 136891.8\n"
          ],
          "name": "stdout"
        }
      ]
    }
  ]
}