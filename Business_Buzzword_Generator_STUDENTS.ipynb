{
  "nbformat": 4,
  "nbformat_minor": 5,
  "metadata": {
    "kernelspec": {
      "display_name": "Python 3 (ipykernel)",
      "language": "python",
      "name": "python3"
    },
    "language_info": {
      "codemirror_mode": {
        "name": "ipython",
        "version": 3
      },
      "file_extension": ".py",
      "mimetype": "text/x-python",
      "name": "python",
      "nbconvert_exporter": "python",
      "pygments_lexer": "ipython3",
      "version": "3.9.6"
    },
    "colab": {
      "name": "Business_Buzzword Generator_STUDENTS.ipynb",
      "provenance": [],
      "collapsed_sections": [],
      "include_colab_link": true
    }
  },
  "cells": [
    {
      "cell_type": "markdown",
      "metadata": {
        "id": "view-in-github",
        "colab_type": "text"
      },
      "source": [
        "<a href=\"https://colab.research.google.com/github/Parshav-Shah/ISYS5002_portfolio/blob/main/Business_Buzzword_Generator_STUDENTS.ipynb\" target=\"_parent\"><img src=\"https://colab.research.google.com/assets/colab-badge.svg\" alt=\"Open In Colab\"/></a>"
      ]
    },
    {
      "cell_type": "markdown",
      "metadata": {
        "id": "f8b21259-c1a0-4ecb-a02f-e35565841067"
      },
      "source": [
        "# Business Buzzword Generator\n",
        "\n",
        "Lets write a real-world business application using Python.   Want to write a program to genrate business phrases.  The program takes three lists of words, randomly picks one word from each list, combines the words into a phrase, and then prints out the phrase. Here is the psuedocode:\n",
        "\n",
        "    importing the random module\n",
        "    make three lists, one of buzzword, one of actions, and one of outcomes\n",
        "    randomly choose one buzzword, action, and outcome from each list\n",
        "    now build the phrase by \"adding\" the words together\n",
        "    output the phrase\n",
        "    \n",
        "A good use of pseudocode is each line becomes comments in the code. Each line of pseudo code has been pasted into a cell below.  Try to implement each as python statement or statements."
      ],
      "id": "f8b21259-c1a0-4ecb-a02f-e35565841067"
    },
    {
      "cell_type": "code",
      "metadata": {
        "colab": {
          "base_uri": "https://localhost:8080/"
        },
        "id": "6b9a2fc6-f8ae-4778-a5e7-9659136091fd",
        "outputId": "6b3effed-5922-4db3-e140-523d0ac97a03"
      },
      "source": [
        "# importing the random module\n",
        "import random as rn\n",
        "\n",
        "#  make three lists, one of buzzwords, one of actions, and one of outcomes\n",
        "verbs_list=['benchmark','brand','build','cloudify','communicate']\n",
        "adjectives_list=['accurate','adaptive','agile','alternative']\n",
        "nouns_list=['architectures','bandwidth','benefits','best practices']\n",
        "\n",
        "# randomly choose one buzzword, action, and outcome from each list\n",
        "verb= rn.choice(verbs_list)\n",
        "adjective= rn.choice(adjectives_list)\n",
        "noun= rn.choice(nouns_list)\n",
        "\n",
        "# build the phrase by \"adding\" the words together\n",
        "phrase= verb+' '+adjective+' '+noun\n",
        "\n",
        "# output the phrase\n",
        "print(phrase)"
      ],
      "id": "6b9a2fc6-f8ae-4778-a5e7-9659136091fd",
      "execution_count": null,
      "outputs": [
        {
          "output_type": "stream",
          "text": [
            "communicate adaptive bandwidth\n"
          ],
          "name": "stdout"
        }
      ]
    }
  ]
}