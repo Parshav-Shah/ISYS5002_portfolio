{
  "nbformat": 4,
  "nbformat_minor": 5,
  "metadata": {
    "kernelspec": {
      "display_name": "Python 3 (ipykernel)",
      "language": "python",
      "name": "python3"
    },
    "language_info": {
      "codemirror_mode": {
        "name": "ipython",
        "version": 3
      },
      "file_extension": ".py",
      "mimetype": "text/x-python",
      "name": "python",
      "nbconvert_exporter": "python",
      "pygments_lexer": "ipython3",
      "version": "3.9.6"
    },
    "colab": {
      "name": "Simple_Interest-STUDENTS.ipynb",
      "provenance": [],
      "collapsed_sections": [],
      "include_colab_link": true
    }
  },
  "cells": [
    {
      "cell_type": "markdown",
      "metadata": {
        "id": "view-in-github",
        "colab_type": "text"
      },
      "source": [
        "<a href=\"https://colab.research.google.com/github/Parshav-Shah/ISYS5002_portfolio/blob/main/Simple_Interest_STUDENTS.ipynb\" target=\"_parent\"><img src=\"https://colab.research.google.com/assets/colab-badge.svg\" alt=\"Open In Colab\"/></a>"
      ]
    },
    {
      "cell_type": "markdown",
      "metadata": {
        "id": "b7a42e71-7361-4878-a06f-0fc857db581f"
      },
      "source": [
        "# Simple Interest Calculator\n",
        "\n",
        "The process of problem solving we will use can be broken down into 5 key steps:\n",
        "1. State the problem clearly\n",
        "2. Describe the input and output information\n",
        "3. Work the problem by hand\n",
        "4. Develop an algorithm (and convert to python) \n",
        "5. Test solution with a variety of data\n",
        "\n",
        "\n",
        "### 1. State Problem Clearly\n",
        "\n",
        "Simple interest in a bank is given by the formula:\n",
        "\n",
        "    Simple Interest = (Ammount Borrowed  x  Interest Rate * years) / 100\n",
        "    \n",
        "\n",
        "### 2. Describe Inputs/Outputs\n",
        "\n",
        "\n",
        "| input | processing | output|\n",
        "|-------|------------|-------|\n",
        "| Amount Borowed |    | Simple Interest |\n",
        "| Interest Rate | | |\n",
        "| Loan Period | | | \n",
        "\n",
        "### 3. Work the problme by hand\n",
        "\n",
        "Borrowed $10,000\n",
        "Interest Rate of 2%\n",
        "Lenghtof loan is 5 years\n",
        "\n",
        "\n",
        "Simple interest \n",
        "=  (10,000 * 2 * 5) / 100\n",
        "= 1,000\n",
        "\n",
        "### 4. Develop and algorithm\n",
        "\n",
        "Here is the pseudocode\n",
        "\n",
        "        Get the amount borrowed\n",
        "        Get the interest rate\n",
        "        Get the loan period\n",
        "        let simple interest = (ammount borrowed * interest rate * loan period) / 100\n",
        "        print The total interest on the loan is: simple interest\n"
      ],
      "id": "b7a42e71-7361-4878-a06f-0fc857db581f"
    },
    {
      "cell_type": "code",
      "metadata": {
        "colab": {
          "base_uri": "https://localhost:8080/"
        },
        "id": "f9a6e70b-c83a-4513-90d7-3cbcfbf9cde7",
        "outputId": "a67e29eb-98e5-4eb7-fb66-7557ea49d80e"
      },
      "source": [
        "# Get the amount borrowed\n",
        "amount_borrowed= float (input(\"enter the amount you borrowed : \"))                            \n",
        "# Get the interest rate\n",
        "interest_rate= float (input(\"Enter your rate of Interest :\"))\n",
        "# Get the loan period\n",
        "loan_period= float (input(\"Enter your loan Period: \"))                       \n",
        "# let simple interest = (ammount borrowed * interest rate * loan period)\n",
        "simple_interest= (amount_borrowed * interest_rate * loan_period)/100\n",
        "# print The total interest on the loan is: simple interest\n",
        "print(\"The total interest on the loan is:\",simple_interest)"
      ],
      "id": "f9a6e70b-c83a-4513-90d7-3cbcfbf9cde7",
      "execution_count": null,
      "outputs": [
        {
          "output_type": "stream",
          "text": [
            "enter the amount you borrowed : 50000\n",
            "Enter your rate of Interest :6.25\n",
            "Enter your loan Period: 0.5\n",
            "The total interest on the loan is: 1562.5\n"
          ],
          "name": "stdout"
        }
      ]
    },
    {
      "cell_type": "markdown",
      "metadata": {
        "id": "26e44634-3041-4ffb-acd9-fa11eb36f2df"
      },
      "source": [
        "### 5. Test with a variety of data.\n",
        "\n",
        "Rather than type in different values each time, perhaps it easier to be prompted for the infromation."
      ],
      "id": "26e44634-3041-4ffb-acd9-fa11eb36f2df"
    },
    {
      "cell_type": "code",
      "metadata": {
        "colab": {
          "base_uri": "https://localhost:8080/"
        },
        "id": "4299ad3d-5672-42fa-bf17-fbf7360e66c5",
        "outputId": "3ce16ba0-00a2-4134-9a8b-fb0421230ea4"
      },
      "source": [
        "# Get the amount borrowed\n",
        "amount_borrowed= float (input(\"enter the amount you borrowed : \"))                            \n",
        "# Get the interest rate\n",
        "interest_rate= float (input(\"Enter your rate of Interest :\"))\n",
        "# Get the loan period\n",
        "loan_period= float (input(\"Enter your loan Period(in Years): \"))                       \n",
        "# let simple interest = (ammount borrowed * interest rate * loan period)\n",
        "simple_interest= (amount_borrowed * interest_rate * loan_period)/100\n",
        "# print The total interest on the loan is: simple interest\n",
        "print(\"The total interest on the loan is: :\",simple_interest)"
      ],
      "id": "4299ad3d-5672-42fa-bf17-fbf7360e66c5",
      "execution_count": null,
      "outputs": [
        {
          "output_type": "stream",
          "text": [
            "enter the amount you borrowed : 1000000\n",
            "Enter your rate of Interest :8.50\n",
            "Enter your loan Period(Years): 10\n",
            "The total interest on the loan is: : 850000.0\n"
          ],
          "name": "stdout"
        }
      ]
    },
    {
      "cell_type": "code",
      "metadata": {
        "colab": {
          "base_uri": "https://localhost:8080/"
        },
        "id": "d6ed57b1-3da8-4768-8864-a2fd2a5e18f0",
        "outputId": "f37eddee-a36e-4e08-9765-1d2a99b4221d"
      },
      "source": [
        "# Get the amount borrowed\n",
        "amount_borrowed= float (input(\"enter the amount you borrowed : \"))                            \n",
        "# Get the interest rate\n",
        "interest_rate= float (input(\"Enter your rate of Interest :\"))\n",
        "# Get the loan period\n",
        "loan_period= float (input(\"Enter your loan Period(in Years): \"))                       \n",
        "# let simple interest = (ammount borrowed * interest rate * loan period)\n",
        "simple_interest= (amount_borrowed * interest_rate * loan_period)/100\n",
        "# print The total interest on the loan is: simple interest\n",
        "print(\"The total interest on the loan is: :\",simple_interest)"
      ],
      "id": "d6ed57b1-3da8-4768-8864-a2fd2a5e18f0",
      "execution_count": null,
      "outputs": [
        {
          "output_type": "stream",
          "text": [
            "enter the amount you borrowed : 822546\n",
            "Enter your rate of Interest :9.46\n",
            "Enter your loan Period(in Years): 20\n",
            "The total interest on the loan is: : 1556257.0320000001\n"
          ],
          "name": "stdout"
        }
      ]
    }
  ]
}