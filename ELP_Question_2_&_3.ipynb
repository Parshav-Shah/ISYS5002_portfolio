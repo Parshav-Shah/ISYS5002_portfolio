{
  "nbformat": 4,
  "nbformat_minor": 0,
  "metadata": {
    "colab": {
      "name": "ELP_Question_2 & 3.ipynb",
      "provenance": [],
      "collapsed_sections": [],
      "authorship_tag": "ABX9TyNhjSrhFzrp0Og/gS+2JAm7",
      "include_colab_link": true
    },
    "kernelspec": {
      "name": "python3",
      "display_name": "Python 3"
    },
    "language_info": {
      "name": "python"
    }
  },
  "cells": [
    {
      "cell_type": "markdown",
      "metadata": {
        "id": "view-in-github",
        "colab_type": "text"
      },
      "source": [
        "<a href=\"https://colab.research.google.com/github/Parshav-Shah/ISYS5002_portfolio/blob/main/ELP_Question_2_%26_3.ipynb\" target=\"_parent\"><img src=\"https://colab.research.google.com/assets/colab-badge.svg\" alt=\"Open In Colab\"/></a>"
      ]
    },
    {
      "cell_type": "markdown",
      "metadata": {
        "id": "MatnbKiVsFd4"
      },
      "source": [
        "## Question 2\n"
      ]
    },
    {
      "cell_type": "code",
      "metadata": {
        "id": "MHNCQzazsE0o"
      },
      "source": [
        "''' This Function is mainly used to conect with url of particular search term that is enter by the user.'''\n",
        "\n",
        "#get_url is user defined function. You can also chnage the name of the function. \n",
        "#Two parameters search_term and template, are defined in the bracket, so that we can use that in the function.\n",
        "def get_url(search_term, template):\n",
        "\n",
        "  # + sign will be replaced space, if it exists in the search_term that is written by user. So that, it can easily appened with url pattern.\n",
        "  # for example: \"Ultrasonic Moniter\" will be replaced as \"Ultrasonic+Moniter\" \n",
        "  search_term = search_term.replace(' ', '+')\n",
        "\n",
        "  #Used to append the search term with the url.\n",
        "  url = template.format(search_term)\n",
        "\n",
        "  #url += '&page={}' is shorthand operator which means url =url + '&page={}'. It used to append page result with another.\n",
        "  # for example, if we search Ultrasonic Moniter then it will give 100s of pages as result. So to append all the page in the one result, below syntax is used.\n",
        "  url += '&page={}'\n",
        "\n",
        "  # return url value, so that it can be used in another function as input.\n",
        "  return url"
      ],
      "execution_count": null,
      "outputs": []
    },
    {
      "cell_type": "markdown",
      "metadata": {
        "id": "NHlsWKZjpLIj"
      },
      "source": [
        "##QUESTION 3\n"
      ]
    },
    {
      "cell_type": "code",
      "metadata": {
        "id": "uSlZBDHZIn1h"
      },
      "source": [
        "def efficiency(dist, gas)\n",
        "return dist/gas\n",
        "km = input (\"How far did your car travel? (In kilometers?) )\n",
        "liters = input (\"How much gas did you use? (In liters)\"\n",
        "MPG = efficiency(dist_traveled, Liters)\n",
        "print MPG"
      ],
      "execution_count": 2,
      "outputs": []
    },
    {
      "cell_type": "markdown",
      "metadata": {
        "id": "enrQvTMNW4PR"
      },
      "source": [
        "**Syntax Error**:\n",
        "\n",
        "Error 1:\n",
        "\n",
        "semi colon(:) is missing.\n",
        "\n",
        "actual syntax: def efficiency(dist, gas) \n",
        "\n",
        "correct syntax: def efficiency(dist, gas):\n",
        "\n",
        "Error 2:\n",
        "\n",
        "Indentation error.\n",
        "Their is no space before 'return' statement.\n",
        "\n",
        "actual syntax: 'return dist/gas'\n",
        "\n",
        "correct syntax: '   return dist/gas'\n",
        "\n",
        "Error 3:\n",
        "\n",
        "Using slash(/) is improper way to declare variable in return statement. We have use commas to declare variables in return statement.\n",
        "\n",
        "actual syntax: '   return dist/gas'\n",
        "\n",
        "correct syntax: '   return dist,gas'\n",
        "\n",
        "Error 4:\n",
        "\n",
        "End of line error. 'km' variable contains input function in which we have to write statement in double inverted commas(\" \"). So, in that, ending comma is not written.\n",
        "\n",
        "actual syntax: km = input (\"How far did your car travel? (In kilometers?) ) \n",
        "\n",
        "correct syntax: km = input (\"How far did your car travel? (In kilometers?)\" )\n",
        "\n",
        "Error 5:\n",
        "\n",
        "Ending bracket is missing in input function of 'liters' variable.\n",
        "actual syntax: liters = input (\"How much gas did you use? (In liters)\"\n",
        "correct syntax: liters = input (\"How much gas did you use? (In liters)\")\n",
        "\n",
        "Error 6:\n",
        "\n",
        "Naming error: 'dist_traveled' variable is not defined in the efficiency function which is used in 'MPG' variable and 'Liters' is written in incorrect way.\n",
        "\n",
        "actual syntax: MPG = efficiency(dist_traveled, Liters) \n",
        "\n",
        "correct syntax: MPG = efficiency(km, liters)\n",
        "\n",
        "Error 7:\n",
        "\n",
        "No brackets are done in print statement and replace \"MPG\" with \"kmPerLitre\"\n",
        "\n",
        "actual syntax: print MPG \n",
        "\n",
        "correct syntax: print (MPG)\n",
        "\n",
        "**Logical Error**:\n",
        "\n",
        "In \"efficiency\" function, all values are taken as input from the user but formula or syntax through which we can calculate fuel economy is not written in the function. So, it will return values that are entered by the user. So write tha logic \"kmPerLitre = dist / gas\" inside the function.\n",
        "\n",
        "Secondly, write Print statement inside the \"Efficiency\" function to print the correct value to fuel efficiency.\n",
        "\n",
        "**Correct Answer is written below**"
      ]
    },
    {
      "cell_type": "code",
      "metadata": {
        "colab": {
          "base_uri": "https://localhost:8080/"
        },
        "id": "FmbsuhX4IpNb",
        "outputId": "d456c1d6-f266-45c0-93a6-09886fba7dcb"
      },
      "source": [
        "def efficiency(dist, gas):\n",
        "  kmPerLitre = dist / gas\n",
        "  print (kmPerLitre)\n",
        "  return dist,gas\n",
        "km = int(input (\"How far did your car travel? (In kilometers?)\"))\n",
        "litres = int(input (\"How much gas did you use? (In liters)\"))\n",
        "MPG = efficiency(km,litres)"
      ],
      "execution_count": 2,
      "outputs": [
        {
          "output_type": "stream",
          "name": "stdout",
          "text": [
            "How far did your car travel? (In kilometers?)100\n",
            "How much gas did you use? (In liters)20\n",
            "5.0\n"
          ]
        }
      ]
    }
  ]
}