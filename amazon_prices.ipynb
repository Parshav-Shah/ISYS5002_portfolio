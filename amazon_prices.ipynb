{
  "nbformat": 4,
  "nbformat_minor": 0,
  "metadata": {
    "colab": {
      "name": "amazon_prices.ipynb",
      "provenance": [],
      "include_colab_link": true
    },
    "kernelspec": {
      "name": "python3",
      "display_name": "Python 3"
    },
    "language_info": {
      "name": "python"
    }
  },
  "cells": [
    {
      "cell_type": "markdown",
      "metadata": {
        "id": "view-in-github",
        "colab_type": "text"
      },
      "source": [
        "<a href=\"https://colab.research.google.com/github/Parshav-Shah/ISYS5002_portfolio/blob/main/amazon_prices.ipynb\" target=\"_parent\"><img src=\"https://colab.research.google.com/assets/colab-badge.svg\" alt=\"Open In Colab\"/></a>"
      ]
    },
    {
      "cell_type": "code",
      "metadata": {
        "id": "nAphLm9Vlzo5"
      },
      "source": [
        "!pip install kora -q\n",
        "'''load packages'''\n",
        "\n",
        "from bs4 import BeautifulSoup\n",
        "from kora.selenium import wd"
      ],
      "execution_count": null,
      "outputs": []
    },
    {
      "cell_type": "code",
      "metadata": {
        "id": "Jyp2DYzImzk-"
      },
      "source": [
        "# Establish Session\n",
        "url = 'https://www.amazon.com.au'\n",
        "wd.get(url)"
      ],
      "execution_count": null,
      "outputs": []
    },
    {
      "cell_type": "code",
      "metadata": {
        "id": "DCZLhnslm9Nm"
      },
      "source": [
        "# workout with url pattern\n",
        "template = 'https://www.amazon.com.au/s?k=ultra+wide+moniter&ref=nb_sb_noss_1'\n",
        "\n",
        "search_term = 'ultra wide moniter'\n",
        "search_term = search_term.replace(' ', '+')\n",
        "\n",
        "url = template.format(search_term)\n",
        "wd.get(url)\n",
        "wd"
      ],
      "execution_count": null,
      "outputs": []
    },
    {
      "cell_type": "code",
      "metadata": {
        "id": "AQz3cNSMnA-E"
      },
      "source": [
        "def get_url(search_term):\n",
        "  template = 'https://www.amazon.com.au/s?k=ultra+wide+moniter&ref=nb_sb_noss_1'\n",
        "\n",
        "  # replace with + sign.\n",
        "  search_term = search_term.replace(' ', '+')\n",
        "  url = template.format(search_term)\n",
        "  return url"
      ],
      "execution_count": null,
      "outputs": []
    },
    {
      "cell_type": "code",
      "metadata": {
        "id": "MT7rDgkAn2u9"
      },
      "source": [
        "search_term = input('What do you want to search??')\n",
        "url = get_url(search_term)\n",
        "wd.get(url)"
      ],
      "execution_count": null,
      "outputs": []
    },
    {
      "cell_type": "code",
      "metadata": {
        "id": "IFVLuMHtoBep"
      },
      "source": [
        "soup = BeautifulSoup(wd.page_source, 'html.parser')"
      ],
      "execution_count": null,
      "outputs": []
    },
    {
      "cell_type": "markdown",
      "metadata": {
        "id": "h4ee8kjVoYB3"
      },
      "source": [
        "# Extract the Collection"
      ]
    },
    {
      "cell_type": "code",
      "metadata": {
        "id": "9FVKD7tYoaWi"
      },
      "source": [
        "result = soup.find_all('div', {'data-component-type': 's-search-result'})\n",
        "result[0]"
      ],
      "execution_count": null,
      "outputs": []
    },
    {
      "cell_type": "code",
      "metadata": {
        "id": "anR8Mto_olFI"
      },
      "source": [
        "result[0].h2.a.text"
      ],
      "execution_count": null,
      "outputs": []
    },
    {
      "cell_type": "code",
      "metadata": {
        "id": "7SbZ48oPsNFk"
      },
      "source": [
        "def extract_description(item):\n",
        "  description = item.h2.a.text\n",
        "  return description"
      ],
      "execution_count": null,
      "outputs": []
    },
    {
      "cell_type": "code",
      "metadata": {
        "id": "kqz-KDsxI-eU"
      },
      "source": [
        "extract_description(result[10])"
      ],
      "execution_count": null,
      "outputs": []
    },
    {
      "cell_type": "markdown",
      "metadata": {
        "id": "1XWF5LHBsjlJ"
      },
      "source": [
        "# Prototype the record"
      ]
    },
    {
      "cell_type": "code",
      "metadata": {
        "id": "cC0bk72XsQ-V"
      },
      "source": [
        "item = result[0]\n",
        "price_parent = item.find('span', 'a-price') \n",
        "price= price_parent.find('span', 'a-offscreen')\n",
        "price.text"
      ],
      "execution_count": null,
      "outputs": []
    },
    {
      "cell_type": "code",
      "metadata": {
        "id": "jESVEqVVsyuA"
      },
      "source": [
        "def extract_price(item):\n",
        "  try:\n",
        "    price_parent = item.find('span', 'a-price') \n",
        "    price= price_parent.find('span', 'a-offscreen')\n",
        "    price= price.text\n",
        "  except AttributeError:\n",
        "    price = ''\n",
        "  return price"
      ],
      "execution_count": null,
      "outputs": []
    },
    {
      "cell_type": "code",
      "metadata": {
        "id": "iO16HydCs3zv"
      },
      "source": [
        "extract_price(result[0])"
      ],
      "execution_count": null,
      "outputs": []
    },
    {
      "cell_type": "code",
      "metadata": {
        "id": "64GHbNF8s734"
      },
      "source": [
        "def extract_record(item):\n",
        "  return {\n",
        "      'description' : extract_description(item),\n",
        "      'Price' : extract_price(item)\n",
        "  }"
      ],
      "execution_count": null,
      "outputs": []
    },
    {
      "cell_type": "code",
      "metadata": {
        "id": "fBB-xo7HtIsm"
      },
      "source": [
        "extract_record(result[0])"
      ],
      "execution_count": null,
      "outputs": []
    },
    {
      "cell_type": "code",
      "metadata": {
        "id": "4QZ_hBYRtxny"
      },
      "source": [
        "type(result)"
      ],
      "execution_count": null,
      "outputs": []
    },
    {
      "cell_type": "code",
      "metadata": {
        "id": "LhWHC-W7t3mH"
      },
      "source": [
        "for r in result:\n",
        "  print(extract_record(r))"
      ],
      "execution_count": null,
      "outputs": []
    },
    {
      "cell_type": "code",
      "metadata": {
        "id": "BfmPYjmRuMwU"
      },
      "source": [
        "records = []\n",
        "for r in result:\n",
        "  records.append(extract_record(r))\n",
        "\n",
        "records[0]"
      ],
      "execution_count": null,
      "outputs": []
    },
    {
      "cell_type": "code",
      "metadata": {
        "id": "5YQZ4-6KNa0B"
      },
      "source": [
        "import pandas as pd\n",
        "df = pd.DataFrame.from_records(records)\n",
        "df.head()"
      ],
      "execution_count": null,
      "outputs": []
    },
    {
      "cell_type": "markdown",
      "metadata": {
        "id": "bQK8lneQvDxO"
      },
      "source": [
        "# Generalize the pattern"
      ]
    },
    {
      "cell_type": "code",
      "metadata": {
        "id": "gF3DcIRRvHnP"
      },
      "source": [
        ""
      ],
      "execution_count": null,
      "outputs": []
    },
    {
      "cell_type": "code",
      "metadata": {
        "id": "QqKbxj1kwcYc"
      },
      "source": [
        "records = []\n",
        "results = soup.find_all('div', {'data-component-type': 's-search-result'})\n",
        "\n",
        "for item in results:\n",
        "  records.append(extract_record(item))"
      ],
      "execution_count": null,
      "outputs": []
    },
    {
      "cell_type": "markdown",
      "metadata": {
        "id": "_ZRk5fnhxeRZ"
      },
      "source": [
        "# Error Handling"
      ]
    },
    {
      "cell_type": "code",
      "metadata": {
        "id": "vkIT_BNUxFvl"
      },
      "source": [
        "\n"
      ],
      "execution_count": null,
      "outputs": []
    },
    {
      "cell_type": "code",
      "metadata": {
        "id": "pYKIDlY0x64Y"
      },
      "source": [
        ""
      ],
      "execution_count": null,
      "outputs": []
    },
    {
      "cell_type": "code",
      "metadata": {
        "id": "phNc9nIpyImi"
      },
      "source": [
        ""
      ],
      "execution_count": null,
      "outputs": []
    },
    {
      "cell_type": "markdown",
      "metadata": {
        "id": "TGU8ZMgxyaWt"
      },
      "source": [
        "# Find next page"
      ]
    },
    {
      "cell_type": "code",
      "metadata": {
        "id": "7JzOCBBRyd5B"
      },
      "source": [
        ""
      ],
      "execution_count": null,
      "outputs": []
    },
    {
      "cell_type": "markdown",
      "metadata": {
        "id": "FanXzdQm2SHO"
      },
      "source": [
        "# Putting it all together"
      ]
    },
    {
      "cell_type": "code",
      "metadata": {
        "id": "sP0evzCj2O2d"
      },
      "source": [
        "!pip install kora -q\n",
        "'''load packages'''\n",
        "\n",
        "from bs4 import BeautifulSoup\n",
        "from kora.selenium import wd\n",
        "\n",
        "def get_url(search_term):\n",
        "  template = 'https://www.amazon.com.au/s?k=ultra+wide+moniter&ref=nb_sb_noss_1'\n",
        "\n",
        "  # replace with + sign.\n",
        "  search_term = search_term.replace(' ', '+')\n",
        "  url = template.format(search_term)\n",
        "  return url\n",
        "\n",
        "def extract_description(item):\n",
        "  description = item.h2.a.text\n",
        "  return description\n",
        "\n",
        "def extract_price(item):\n",
        "  try:\n",
        "    price_parent = item.find('span', 'a-price') \n",
        "    price= price_parent.find('span', 'a-offscreen')\n",
        "    price= price.text\n",
        "  except AttributeError:\n",
        "    price = ''\n",
        "  return price\n",
        "def extract_record(item):\n",
        "  return {\n",
        "      'description' : extract_description(item),\n",
        "      'Price' : extract_price(item)\n",
        "  }"
      ],
      "execution_count": 4,
      "outputs": []
    },
    {
      "cell_type": "code",
      "metadata": {
        "id": "SmzW9RwEASoq",
        "outputId": "cd582bb4-f67c-4ca5-acd9-2d5ebf7a6d42",
        "colab": {
          "base_uri": "https://localhost:8080/",
          "height": 221
        }
      },
      "source": [
        "# Establish Session\n",
        "url = 'https://www.amazon.com.au'\n",
        "wd.get(url)\n",
        "\n",
        "search_term = input('What do you want to search??')\n",
        "url = get_url(search_term)\n",
        "wd.get(url)\n",
        "\n",
        "soup = BeautifulSoup(wd.page_source, 'html.parser')\n",
        "\n",
        "records = []\n",
        "results = soup.find_all('div', {'data-component-type': 's-search-result'})\n",
        "\n",
        "for item in results:\n",
        "  records.append(extract_record(item))\n",
        "\n",
        "#wd.close()\n",
        "\n",
        "import pandas as pd\n",
        "df = pd.DataFrame.from_records(records)\n",
        "df.head()"
      ],
      "execution_count": 6,
      "outputs": [
        {
          "name": "stdout",
          "output_type": "stream",
          "text": [
            "What do you want to search??mouse pad\n"
          ]
        },
        {
          "output_type": "execute_result",
          "data": {
            "text/html": [
              "<div>\n",
              "<style scoped>\n",
              "    .dataframe tbody tr th:only-of-type {\n",
              "        vertical-align: middle;\n",
              "    }\n",
              "\n",
              "    .dataframe tbody tr th {\n",
              "        vertical-align: top;\n",
              "    }\n",
              "\n",
              "    .dataframe thead th {\n",
              "        text-align: right;\n",
              "    }\n",
              "</style>\n",
              "<table border=\"1\" class=\"dataframe\">\n",
              "  <thead>\n",
              "    <tr style=\"text-align: right;\">\n",
              "      <th></th>\n",
              "      <th>description</th>\n",
              "      <th>Price</th>\n",
              "    </tr>\n",
              "  </thead>\n",
              "  <tbody>\n",
              "    <tr>\n",
              "      <th>0</th>\n",
              "      <td>LG 25UM58-P 25-Inch 21:9 UltraWide IPS Monitor...</td>\n",
              "      <td>$279.00</td>\n",
              "    </tr>\n",
              "    <tr>\n",
              "      <th>1</th>\n",
              "      <td>LG 34BN670-B 34” IPS FHD UltraWide Monitor (25...</td>\n",
              "      <td>$750.83</td>\n",
              "    </tr>\n",
              "    <tr>\n",
              "      <th>2</th>\n",
              "      <td>LG 29WP60G-B 29 Inch 21:9 UltraWide Full HD (2...</td>\n",
              "      <td>$348.41</td>\n",
              "    </tr>\n",
              "    <tr>\n",
              "      <th>3</th>\n",
              "      <td>Dell S3221QS 32 Inch Curved 4K UHD Monitor, VA...</td>\n",
              "      <td>$659.18</td>\n",
              "    </tr>\n",
              "    <tr>\n",
              "      <th>4</th>\n",
              "      <td>VIVO Single LCD Monitor Desk Mount Stand Fully...</td>\n",
              "      <td>$61.38</td>\n",
              "    </tr>\n",
              "  </tbody>\n",
              "</table>\n",
              "</div>"
            ],
            "text/plain": [
              "                                         description    Price\n",
              "0  LG 25UM58-P 25-Inch 21:9 UltraWide IPS Monitor...  $279.00\n",
              "1  LG 34BN670-B 34” IPS FHD UltraWide Monitor (25...  $750.83\n",
              "2  LG 29WP60G-B 29 Inch 21:9 UltraWide Full HD (2...  $348.41\n",
              "3  Dell S3221QS 32 Inch Curved 4K UHD Monitor, VA...  $659.18\n",
              "4  VIVO Single LCD Monitor Desk Mount Stand Fully...   $61.38"
            ]
          },
          "metadata": {},
          "execution_count": 6
        }
      ]
    },
    {
      "cell_type": "code",
      "metadata": {
        "id": "BF-zepIwAetK"
      },
      "source": [
        ""
      ],
      "execution_count": 6,
      "outputs": []
    },
    {
      "cell_type": "code",
      "metadata": {
        "id": "sOFfhTFDDpto"
      },
      "source": [
        ""
      ],
      "execution_count": null,
      "outputs": []
    }
  ]
}