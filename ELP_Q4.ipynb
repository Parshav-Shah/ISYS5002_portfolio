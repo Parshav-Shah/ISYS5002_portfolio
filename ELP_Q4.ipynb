{
  "nbformat": 4,
  "nbformat_minor": 0,
  "metadata": {
    "colab": {
      "name": "ELP_Q4.ipynb",
      "provenance": [],
      "authorship_tag": "ABX9TyNfrMZsTvd3t8FFFnoFrHE6",
      "include_colab_link": true
    },
    "kernelspec": {
      "name": "python3",
      "display_name": "Python 3"
    },
    "language_info": {
      "name": "python"
    }
  },
  "cells": [
    {
      "cell_type": "markdown",
      "metadata": {
        "id": "view-in-github",
        "colab_type": "text"
      },
      "source": [
        "<a href=\"https://colab.research.google.com/github/Parshav-Shah/ISYS5002_portfolio/blob/main/ELP_Q4.ipynb\" target=\"_parent\"><img src=\"https://colab.research.google.com/assets/colab-badge.svg\" alt=\"Open In Colab\"/></a>"
      ]
    },
    {
      "cell_type": "markdown",
      "metadata": {
        "id": "6PcnkuZwjrTC"
      },
      "source": [
        "**Step 1:**\n",
        "\n",
        "Load the required modules and packages."
      ]
    },
    {
      "cell_type": "code",
      "metadata": {
        "id": "MPZa1IVXsyuX"
      },
      "source": [
        "# imported pandas module\n",
        "import pandas as pd\n",
        "# imported matplotlib.pyplot module to plot graph\n",
        "import matplotlib.pyplot as plt"
      ],
      "execution_count": 1,
      "outputs": []
    },
    {
      "cell_type": "markdown",
      "metadata": {
        "id": "Zq9URIXakCO0"
      },
      "source": [
        "**Step 2:**\n",
        "\n",
        "Loading CSV file into DataFrame."
      ]
    },
    {
      "cell_type": "code",
      "metadata": {
        "id": "7yRU03AMs9t8"
      },
      "source": [
        "# read CSV file using read_csv function of pandas module\n",
        "sales_csv= pd.read_csv(\"sales.csv\")"
      ],
      "execution_count": 2,
      "outputs": []
    },
    {
      "cell_type": "markdown",
      "metadata": {
        "id": "5ZACfjt0kRGV"
      },
      "source": [
        "**Step 3:**\n",
        "\n",
        "Filtering the Data of Australia and Oceania region and stored into df_region DataFrame."
      ]
    },
    {
      "cell_type": "code",
      "metadata": {
        "id": "nzZ8qGrSu0tu"
      },
      "source": [
        "region= sales_csv.loc[sales_csv['Region']== 'Australia and Oceania']\n",
        "df_region= pd.DataFrame(region)"
      ],
      "execution_count": 3,
      "outputs": []
    },
    {
      "cell_type": "markdown",
      "metadata": {
        "id": "6sZ6O0UYksAT"
      },
      "source": [
        "**Step 4:**\n",
        "\n",
        "Found Minimum Total Profit among all countires that resides in Australia and Oceania region."
      ]
    },
    {
      "cell_type": "code",
      "metadata": {
        "colab": {
          "base_uri": "https://localhost:8080/"
        },
        "id": "t7oEeR_rgTBG",
        "outputId": "4351448b-539e-418c-ffee-a16e4c39989a"
      },
      "source": [
        "# Minimum value of Total profit \n",
        "minimum_profit = df_region['Total Profit'].min()\n",
        "print(\"Minimum Total Profit among Australia and Oceania Countries:\", minimum_profit)"
      ],
      "execution_count": 4,
      "outputs": [
        {
          "output_type": "stream",
          "name": "stdout",
          "text": [
            "Minimum Total Profit among Australia and Oceania Countries: 5270.67\n"
          ]
        }
      ]
    },
    {
      "cell_type": "markdown",
      "metadata": {
        "id": "sBk2fMhOlDx4"
      },
      "source": [
        "**Step 5:**\n",
        "\n",
        "Found Maximum Total Profit among all countires that resides in Australia and Oceania region."
      ]
    },
    {
      "cell_type": "code",
      "metadata": {
        "colab": {
          "base_uri": "https://localhost:8080/"
        },
        "id": "HrvTbAYuhkUY",
        "outputId": "f5fb8af1-49f2-4946-906f-80e27a399430"
      },
      "source": [
        "# Maximum value of Total profit\n",
        "maximum_profit = df_region['Total Profit'].max()\n",
        "print(\"Maximum Total Profit among Australia and Oceania Countries:\", maximum_profit)"
      ],
      "execution_count": 5,
      "outputs": [
        {
          "output_type": "stream",
          "name": "stdout",
          "text": [
            "Maximum Total Profit among Australia and Oceania Countries: 1678540.98\n"
          ]
        }
      ]
    },
    {
      "cell_type": "markdown",
      "metadata": {
        "id": "D6Xrf7LFlIps"
      },
      "source": [
        "**Step 6:**\n",
        "\n",
        "Found Average Total Profit among all countires that resides in Australia and Oceania region."
      ]
    },
    {
      "cell_type": "code",
      "metadata": {
        "colab": {
          "base_uri": "https://localhost:8080/"
        },
        "id": "X9VE-ARMh5rI",
        "outputId": "e11658bd-67a0-4243-f4df-1550cdeb02c9"
      },
      "source": [
        "# Average value of Total profit\n",
        "sum_profit = df_region['Total Profit'].sum()\n",
        "#print(\"Sum of Total Profit of all Australia and Oceania Countries:\", sum_profit)\n",
        "avg_profit = sum_profit / len(df_region['Total Profit'])\n",
        "print(\"Average Total Profit of Australia and Oceania Countries:\", avg_profit)"
      ],
      "execution_count": 6,
      "outputs": [
        {
          "output_type": "stream",
          "name": "stdout",
          "text": [
            "Average Total Profit of Australia and Oceania Countries: 429287.27545454545\n"
          ]
        }
      ]
    },
    {
      "cell_type": "markdown",
      "metadata": {
        "id": "dJuyh_c0lRW0"
      },
      "source": [
        "**Step 7 :**\n",
        "\n",
        "Plotted a graph of Total profit according to the countires that are in the Australia and Oceania region."
      ]
    },
    {
      "cell_type": "code",
      "metadata": {
        "colab": {
          "base_uri": "https://localhost:8080/",
          "height": 440
        },
        "id": "YOwl6MJ67B6m",
        "outputId": "2c2d8d99-b215-4f8e-a3c5-c9fd13f7387c"
      },
      "source": [
        "# Plotted bar graph of total profit using plot.bar function of plot.bar function\n",
        "df_region.plot.bar(x=\"Country\", y=\"Total Profit\", title=\"Countrywise Total Profit of Australia and Oceania\")\n",
        "plt.show(block=True)"
      ],
      "execution_count": 7,
      "outputs": [
        {
          "output_type": "display_data",
          "data": {
            "image/png": "[encoded data removed]",
            "text/plain": [
              "<Figure size 432x288 with 1 Axes>"
            ]
          },
          "metadata": {
            "needs_background": "light"
          }
        }
      ]
    }
  ]
}