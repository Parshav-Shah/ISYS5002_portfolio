{
  "nbformat": 4,
  "nbformat_minor": 0,
  "metadata": {
    "colab": {
      "name": "tax_calculation.ipynb",
      "provenance": [],
      "collapsed_sections": [],
      "include_colab_link": true
    },
    "kernelspec": {
      "name": "python3",
      "display_name": "Python 3"
    },
    "language_info": {
      "name": "python"
    }
  },
  "cells": [
    {
      "cell_type": "markdown",
      "metadata": {
        "id": "view-in-github",
        "colab_type": "text"
      },
      "source": [
        "<a href=\"https://colab.research.google.com/github/Parshav-Shah/ISYS5002_portfolio/blob/main/tax_calculation.ipynb\" target=\"_parent\"><img src=\"https://colab.research.google.com/assets/colab-badge.svg\" alt=\"Open In Colab\"/></a>"
      ]
    },
    {
      "cell_type": "markdown",
      "metadata": {
        "id": "bVMwNyExqHgH"
      },
      "source": [
        "Write a program the prompts the user for their income and caclualtes the tax payable.\n",
        "\n",
        "[Resident tax rates 2021–22\n",
        "Taxable income](https://www.ato.gov.au/rates/individual-income-tax-rates/)\n",
        "\n",
        "Income            | Tax on this income \n",
        "------------------|----------------------\n",
        "0 – \\$18,200       | Nil\n",
        "\\$18,201 – \\$45,000 | 19 cents for each \\$1 over \\$18,200\n",
        "\\$45,001 – \\$120,000 | \\$5,092 plus 32.5 cents for each \\$1 over \\$45,000\n",
        "\\$120,001 – \\$180,000 |  \\$29,467 plus 37 cents for each \\$1 over \\$120,000\n",
        "\\$180,001 and over | \\$51,667 plus 45 cents for each \\$1 over \\$180,000\n",
        "\n"
      ]
    },
    {
      "cell_type": "markdown",
      "metadata": {
        "id": "uJ441RxibOQd"
      },
      "source": [
        "Steps to Complete Programm:\n",
        "1. Get User Income Amount. \n",
        "2. Calculate the Tax."
      ]
    },
    {
      "cell_type": "code",
      "metadata": {
        "id": "iG0VZrzMbdH3"
      },
      "source": [
        "def get_income():\n",
        "  income = float(input(\"what is your Your Yearly Income ?\"))\n",
        "  print(\"Your Income:\",income)\n",
        "  return income"
      ],
      "execution_count": 10,
      "outputs": []
    },
    {
      "cell_type": "code",
      "metadata": {
        "id": "iTVztsH5bzv8"
      },
      "source": [
        "def tax_calculation(income):\n",
        "  if income < 18200:\n",
        "    tax_payable = o\n",
        "  elif 18200 < income < 45000:\n",
        "    tax_payable = 0.19 * (income - 18200)\n",
        "  elif 45000 < income < 120000:\n",
        "    tax_payable = 5092 + 32.5 * (income - 45000)\n",
        "  elif 120000 < income < 180000:\n",
        "    tax_payable = 29467 + 37 * (income - 120000)\n",
        "  elif income > 180000:\n",
        "    tax_payable = 51667 + 45 * (income - 18000)\n",
        "  else:\n",
        "    print(\"Enter Proper Value...\")\n",
        "  return tax_payable "
      ],
      "execution_count": 13,
      "outputs": []
    },
    {
      "cell_type": "code",
      "metadata": {
        "colab": {
          "base_uri": "https://localhost:8080/"
        },
        "id": "P1yAGhMNiL3m",
        "outputId": "29219d86-2465-45ed-8316-91e0a9d010f7"
      },
      "source": [
        "# Main Line\n",
        "# Step 1:\n",
        "income = get_income()\n",
        "# Step 2:\n",
        "tax_payable = tax_calculation(income)\n",
        "# Step 3:\n",
        "print(\"Your Tax Payable Value is :\" ,tax_payable)"
      ],
      "execution_count": 14,
      "outputs": [
        {
          "output_type": "stream",
          "name": "stdout",
          "text": [
            "what is your Your Yearly Income ?185236\n",
            "Your Income: 185236.0\n",
            "Your Tax Payable Value is : 7577287.0\n"
          ]
        }
      ]
    }
  ]
}